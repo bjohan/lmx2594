{
 "cells": [
  {
   "cell_type": "code",
   "execution_count": 1,
   "id": "83a7bd30-b6ca-4cf6-a9a2-99fa70479949",
   "metadata": {},
   "outputs": [
    {
     "name": "stdout",
     "output_type": "stream",
     "text": [
      "b'HEWLETT PACKARD,8703A,0,1.00\\n'\n",
      "Warning: Frequency information doesn't match on ideals[0], attempting to interpolate the ideal[0] Network ..\n",
      "Success\n",
      "Warning: Frequency information doesn't match on ideals[1], attempting to interpolate the ideal[1] Network ..\n",
      "Success\n",
      "Warning: Frequency information doesn't match on ideals[2], attempting to interpolate the ideal[2] Network ..\n",
      "Success\n",
      "Warning: Frequency information doesn't match on ideals[3], attempting to interpolate the ideal[3] Network ..\n",
      "Success\n",
      "Waiting for init... Done\n"
     ]
    }
   ],
   "source": [
    "import sys\n",
    "sys.path.append('gpib_instrument_control/')\n",
    "import gpib_instrument_control.racal_dana_6000\n",
    "import gpib_instrument_control.hp_3478a\n",
    "import gpib_instrument_control.hp_8700_series_vna\n",
    "import gpib_instrument_control.vna_fixture\n",
    "import gpib_instrument_control.switch_calkit\n",
    "import matplotlib.pyplot as plt\n",
    "import voltage_generator\n",
    "import numpy as np\n",
    "import time\n",
    "from matplotlib import pyplot as plt\n",
    "\n",
    "rd6000 = gpib_instrument_control.racal_dana_6000.RacalDana6000()\n",
    "hp3478 = gpib_instrument_control.hp_3478a.Hp3478A()\n",
    "vna = gpib_instrument_control.hp_8700_series_vna.Hp8753A()\n",
    "\n",
    "#calkit = gpib_instrument_control.switch_calkit.SwitchCalkit(None, serialPortPath='/dev/ttyUSB0')\n",
    "calkit = None\n",
    "fixture = gpib_instrument_control.vna_fixture.VnaFixture(vna, calkit, 130e6, 20e9, 1e6, 'measured_stds/', 'data/cal_stds/') \n",
    "#calkit.device.write(b'N')\n",
    "\n",
    "vg = voltage_generator.VoltageGenerator(\"/dev/ttyUSB0\")"
   ]
  },
  {
   "cell_type": "code",
   "execution_count": 5,
   "id": "b37a4843-b62a-4995-bf4e-8949ffb51b95",
   "metadata": {},
   "outputs": [
    {
     "name": "stdout",
     "output_type": "stream",
     "text": [
      "att/neg0_001volts.s2p\n",
      "att/neg0_001volts.s2p\n",
      "att/0_080volts.s2p\n",
      "att/0_208volts.s2p\n",
      "att/0_335volts.s2p\n",
      "att/0_462volts.s2p\n",
      "att/0_590volts.s2p\n",
      "att/0_717volts.s2p\n",
      "att/0_844volts.s2p\n",
      "att/0_972volts.s2p\n",
      "att/1_099volts.s2p\n",
      "att/1_226volts.s2p\n",
      "att/1_353volts.s2p\n",
      "att/1_481volts.s2p\n",
      "att/1_608volts.s2p\n",
      "att/1_735volts.s2p\n",
      "att/1_862volts.s2p\n",
      "att/1_990volts.s2p\n",
      "att/2_117volts.s2p\n",
      "att/2_244volts.s2p\n",
      "[-0.0007239345, -0.0006844381, 0.08026722, 0.2076561, 0.334989, 0.4624022, 0.5895679, 0.7170986, 0.8444193, 0.9717425, 1.098958, 1.226283, 1.353484, 1.480737, 1.607935, 1.735096, 1.862414, 1.989708, 2.116926, 2.24432]\n"
     ]
    }
   ],
   "source": [
    "vg.setA(-1)\n",
    "vg.setB(-1)\n",
    "\n",
    "voltages=[]\n",
    "rfNets=[]\n",
    "#for v in np.linspace(-1, 1, 20):\n",
    "for v in np.linspace(-0.9, 0.3, 20):\n",
    "    vg.setA(v)\n",
    "    vg.setB(v)\n",
    "    time.sleep(1)\n",
    "    for i in range(3):\n",
    "        rd6000.readValue();\n",
    "    voltage=rd6000.readValue()\n",
    "    voltages.append(voltage)\n",
    "    rfNets.append(fixture.calibratedMeasure())\n",
    "    vstr = \"%.3f\"%(voltage)\n",
    "    if \"-\" in vstr:\n",
    "        vstr = \"neg%.3f\"%(abs(voltage))\n",
    "    else:\n",
    "        vstr = \"%.3f\"%(voltage)\n",
    "    vstr=vstr.replace('.', '_')\n",
    "    filePath=\"att/\"+vstr+\"volts.s2p\"\n",
    "    print(filePath)\n",
    "    rfNets[-1].write_touchstone(filePath)\n",
    "    \n",
    "    \n",
    "print(voltages)"
   ]
  }
 ],
 "metadata": {
  "kernelspec": {
   "display_name": "Python 3 (ipykernel)",
   "language": "python",
   "name": "python3"
  },
  "language_info": {
   "codemirror_mode": {
    "name": "ipython",
    "version": 3
   },
   "file_extension": ".py",
   "mimetype": "text/x-python",
   "name": "python",
   "nbconvert_exporter": "python",
   "pygments_lexer": "ipython3",
   "version": "3.10.6"
  }
 },
 "nbformat": 4,
 "nbformat_minor": 5
}
